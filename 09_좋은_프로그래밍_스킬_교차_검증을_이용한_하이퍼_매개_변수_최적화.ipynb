{
  "nbformat": 4,
  "nbformat_minor": 0,
  "metadata": {
    "colab": {
      "provenance": [],
      "gpuType": "T4",
      "authorship_tag": "ABX9TyOMasU6WXZRe9zgHSvGqv7P",
      "include_colab_link": true
    },
    "kernelspec": {
      "name": "python3",
      "display_name": "Python 3"
    },
    "language_info": {
      "name": "python"
    },
    "accelerator": "GPU"
  },
  "cells": [
    {
      "cell_type": "markdown",
      "metadata": {
        "id": "view-in-github",
        "colab_type": "text"
      },
      "source": [
        "<a href=\"https://colab.research.google.com/github/twotablepush/AiBasic/blob/main/09_%EC%A2%8B%EC%9D%80_%ED%94%84%EB%A1%9C%EA%B7%B8%EB%9E%98%EB%B0%8D_%EC%8A%A4%ED%82%AC_%EA%B5%90%EC%B0%A8_%EA%B2%80%EC%A6%9D%EC%9D%84_%EC%9D%B4%EC%9A%A9%ED%95%9C_%ED%95%98%EC%9D%B4%ED%8D%BC_%EB%A7%A4%EA%B0%9C_%EB%B3%80%EC%88%98_%EC%B5%9C%EC%A0%81%ED%99%94.ipynb\" target=\"_parent\"><img src=\"https://colab.research.google.com/assets/colab-badge.svg\" alt=\"Open In Colab\"/></a>"
      ]
    },
    {
      "cell_type": "markdown",
      "source": [
        "## 좋은 프로그래밍 스킬\n",
        "\n",
        "1. 모듈화하라\n",
        "2. 언어의 좋은 특성을 최대한 활용하라\n",
        "3. 점증적으로 코딩하라\n",
        " - 한번에 한가지 기능을 추가하고 옳게 작동하는지 확인하는 일을 반복\n",
        "4. 디자인 패턴을 몸에 배게 하라\n",
        " - 다른 프로그램과 공유하는 디자인 패턴에 대한 눈썰미\n",
        "5. 도구에 한없이 익숙해져라\n",
        " - 통합개발환경인 스차이더 사용법에 익숙, 구글 코렙 추천\n",
        " - 라이브러리 사용에 익숙\n",
        "6. 기초에 충실하라\n",
        " - 파이썬의 기초 자료구조인 리스트, 튜플, 딕셔너리\n",
        " - 중요한 라이브러리인 numpy\n",
        " - 기계 학습의 기초 이론 등\n"
      ],
      "metadata": {
        "id": "GTiU37HSVqlM"
      }
    },
    {
      "cell_type": "code",
      "execution_count": 6,
      "metadata": {
        "colab": {
          "base_uri": "https://localhost:8080/",
          "height": 498
        },
        "id": "nAb7KM7OJukO",
        "outputId": "0df972c0-8086-4221-df5a-ce163fda5ebf"
      },
      "outputs": [
        {
          "output_type": "stream",
          "name": "stdout",
          "text": [
            "SGD:  0.8585000038146973\n",
            "Adam:  0.8964499950408935\n",
            "Adagrad:  0.8341166734695434\n",
            "RMSprop:  0.8895666599273682\n"
          ]
        },
        {
          "output_type": "display_data",
          "data": {
            "text/plain": [
              "<Figure size 640x480 with 1 Axes>"
            ],
            "image/png": "[encoded data removed]"
          },
          "metadata": {}
        }
      ],
      "source": [
        "# 교차 검증을 이용한 옵티마이저의 성능 비교: SGD, Adam, Adagrad, RMSprop\n",
        "import numpy as np\n",
        "import tensorflow as tf\n",
        "from tensorflow.keras.datasets import fashion_mnist\n",
        "from tensorflow.keras.models import Sequential\n",
        "from tensorflow.keras.layers import Dense\n",
        "from tensorflow.keras.optimizers import SGD, Adam, Adagrad, RMSprop\n",
        "from sklearn.model_selection import KFold\n",
        "\n",
        "# fashion MNIST를 읽고 신경망에 입력할 형태로 변환\n",
        "(x_train, y_train), (x_test, y_test) = fashion_mnist.load_data()\n",
        "x_train = x_train.reshape(60000, 784)\n",
        "x_test = x_test.reshape(10000, 784)\n",
        "x_train = x_train.astype(np.float32) / 255.0\n",
        "x_test = x_test.astype(np.float32) / 255.0\n",
        "y_train = tf.keras.utils.to_categorical(y_train, 10)\n",
        "y_test = tf.keras.utils.to_categorical(y_test, 10)\n",
        "\n",
        "# 신경망의 구조 설정\n",
        "n_input = 784\n",
        "n_hidden1 = 1024\n",
        "n_hidden2 = 512\n",
        "n_hidden3 = 512\n",
        "n_hidden4 = 512\n",
        "n_output = 10\n",
        "\n",
        "# 하이퍼 매개변수 설정\n",
        "batch_size = 256\n",
        "n_epoch = 20\n",
        "k = 5\n",
        "\n",
        "# 모델을 설계해주는 함수(모델을 나타내는 객체 model을 반환)\n",
        "def build_model():\n",
        "    model = Sequential()\n",
        "    model.add(Dense(units = n_hidden1, activation = 'relu', input_shape = (n_input,)))\n",
        "    model.add(Dense(units = n_hidden2, activation = 'relu'))\n",
        "    model.add(Dense(units = n_hidden3, activation = 'relu'))\n",
        "    model.add(Dense(units = n_hidden4, activation = 'relu'))\n",
        "    model.add(Dense(units = n_output, activation = 'softmax'))\n",
        "    return model\n",
        "\n",
        "# 교차 검증을 해주는 함수(서로 다른 옵티마이저(opt)에 대해)\n",
        "def cross_validation(opt):\n",
        "    accuracy = []\n",
        "    for train_index, val_index in KFold(k).split(x_train):\n",
        "        xtrain, xval = x_train[train_index], x_train[val_index]\n",
        "        ytrain, yval = y_train[train_index], y_train[val_index]\n",
        "        dmlp = build_model()\n",
        "        dmlp.compile(loss = 'categorical_crossentropy', optimizer = opt(), metrics = ['accuracy'])\n",
        "        dmlp.fit(xtrain, ytrain, batch_size = batch_size, epochs = n_epoch, verbose = 0)\n",
        "        accuracy.append(dmlp.evaluate(xval, yval, verbose = 0)[1])\n",
        "    return accuracy\n",
        "\n",
        "# 옵티마이저 4개에 대해 교차 검증을 실행\n",
        "acc_sgd = cross_validation(lambda: SGD())\n",
        "acc_adam = cross_validation(lambda: Adam())\n",
        "acc_adagrad = cross_validation(lambda: Adagrad())\n",
        "acc_rmsprop = cross_validation(lambda: RMSprop())\n",
        "\n",
        "# 옵티마이저 4개의 정확률을 비교\n",
        "print(\"SGD: \", np.array(acc_sgd).mean())\n",
        "print(\"Adam: \", np.array(acc_adam).mean())\n",
        "print(\"Adagrad: \", np.array(acc_adagrad).mean())\n",
        "print(\"RMSprop: \", np.array(acc_rmsprop).mean())\n",
        "\n",
        "# 네 옵티마이저의 정확률을 박스플롯으로 비교\n",
        "import matplotlib.pyplot as plt\n",
        "plt.boxplot([acc_sgd, acc_adam, acc_adagrad, acc_rmsprop], labels = ['SGD', 'Adam', 'Adagrad', 'RMSprop'])\n",
        "plt.grid()\n",
        "plt.show()"
      ]
    }
  ]
}