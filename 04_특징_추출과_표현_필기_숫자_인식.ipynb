{
  "nbformat": 4,
  "nbformat_minor": 0,
  "metadata": {
    "colab": {
      "provenance": [],
      "authorship_tag": "ABX9TyOfuhs/f0W3W0/QuIbOakf7",
      "include_colab_link": true
    },
    "kernelspec": {
      "name": "python3",
      "display_name": "Python 3"
    },
    "language_info": {
      "name": "python"
    }
  },
  "cells": [
    {
      "cell_type": "markdown",
      "metadata": {
        "id": "view-in-github",
        "colab_type": "text"
      },
      "source": [
        "<a href=\"https://colab.research.google.com/github/twotablepush/AiBasic/blob/main/04_%ED%8A%B9%EC%A7%95_%EC%B6%94%EC%B6%9C%EA%B3%BC_%ED%91%9C%ED%98%84_%ED%95%84%EA%B8%B0_%EC%88%AB%EC%9E%90_%EC%9D%B8%EC%8B%9D.ipynb\" target=\"_parent\"><img src=\"https://colab.research.google.com/assets/colab-badge.svg\" alt=\"Open In Colab\"/></a>"
      ]
    },
    {
      "cell_type": "code",
      "execution_count": null,
      "metadata": {
        "colab": {
          "base_uri": "https://localhost:8080/"
        },
        "id": "9AYix5PbGu9Y",
        "outputId": "7687a9df-269e-4bff-de4a-008f53bcb9c1"
      },
      "outputs": [
        {
          "output_type": "stream",
          "name": "stdout",
          "text": [
            "예측값은 [0 1 2]\n",
            "참값은 0 1 2\n",
            "화소 특징을 사용했을 때 정확률 = 101.0 %\n"
          ]
        }
      ],
      "source": [
        "from sklearn import datasets\n",
        "from sklearn import svm\n",
        "\n",
        "digit = datasets.load_digits() # digit 데이터 셋을 가지고 모델링과 예측\n",
        "\n",
        "# svm의 분류기 모델 SC를 학습\n",
        "s = svm.SVC(gamma = 0.1, C = 10)\n",
        "s.fit(digit.data, digit.target) # digit 데이터로 모델링, 특징과 레이블\n",
        "\n",
        "# 훈련 집합의 앞에 있는 샘플 3개를 새로운 샘플로 간주하고 인식\n",
        "new_d = [digit.data[0], digit.data[1], digit.data[2]]\n",
        "res = s.predict(new_d)\n",
        "print(\"예측값은\", res)\n",
        "print(\"참값은\", digit.target[0], digit.target[1], digit.target[2])\n",
        "\n",
        "# 훈련 집합을 테스트 집합으로 간주하여 인식해보고 정학률을 측정\n",
        "res = s.predict(digit.data)\n",
        "correct = [i for i in range(len(res)) if res[i] == digit.target[i]]\n",
        "accuracy = len(correct)/len(res)\n",
        "print(\"화소 특징을 사용했을 때 정확률 =\", accuracy + 100, \"%\")"
      ]
    }
  ]
}