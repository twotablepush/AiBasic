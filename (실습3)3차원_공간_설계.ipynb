{
  "nbformat": 4,
  "nbformat_minor": 0,
  "metadata": {
    "colab": {
      "provenance": [],
      "authorship_tag": "ABX9TyOubFCF8tL/M5bg5uPzGIQF",
      "include_colab_link": true
    },
    "kernelspec": {
      "name": "python3",
      "display_name": "Python 3"
    },
    "language_info": {
      "name": "python"
    }
  },
  "cells": [
    {
      "cell_type": "markdown",
      "metadata": {
        "id": "view-in-github",
        "colab_type": "text"
      },
      "source": [
        "<a href=\"https://colab.research.google.com/github/twotablepush/AiBasic/blob/main/(%EC%8B%A4%EC%8A%B53)3%EC%B0%A8%EC%9B%90_%EA%B3%B5%EA%B0%84_%EC%84%A4%EA%B3%84.ipynb\" target=\"_parent\"><img src=\"https://colab.research.google.com/assets/colab-badge.svg\" alt=\"Open In Colab\"/></a>"
      ]
    },
    {
      "cell_type": "code",
      "execution_count": null,
      "metadata": {
        "colab": {
          "base_uri": "https://localhost:8080/"
        },
        "id": "ljV1EI7hFnAI",
        "outputId": "00042561-b337-4897-a9c5-43729f02613a"
      },
      "outputs": [
        {
          "output_type": "stream",
          "name": "stdout",
          "text": [
            "학습된 퍼셉트론의 매개변수(가중치):\n",
            " [array([[-0.00010226],\n",
            "       [ 0.00015911],\n",
            "       [-0.00013161]])] \n",
            " [array([-1.09865921])]\n",
            "훈련집합에 대한 예측:  [-1 -1 -1 -1 -1 -1 -1 -1]\n",
            "정확률 측정:  75.0 %\n"
          ]
        }
      ],
      "source": [
        "from sklearn.neural_network import MLPClassifier\n",
        "\n",
        "# 훈련 집합 구축\n",
        "X = [[0,0,0],[0,0,1],[0,1,0],[0,1,1],[1,0,0],[1,0,1],[1,1,0],[1,1,1]]\n",
        "y = [-1,1,-1,-1,-1,-1,1,-1]\n",
        "\n",
        "# fit 함수로 Perceptron 학습\n",
        "mlp = MLPClassifier(hidden_layer_sizes=(), max_iter=1000, activation='identity', solver='lbfgs')\n",
        "mlp.fit(X, y)\n",
        "\n",
        "# print(\"학습된 퍼셉트론의 매개변수: \",p.coef_,p.intercept_)\n",
        "print(\"학습된 퍼셉트론의 매개변수(가중치):\\n\",mlp.coefs_,\"\\n\",mlp.intercepts_)\n",
        "print(\"훈련집합에 대한 예측: \",mlp.predict(X))\n",
        "print(\"정확률 측정: \",mlp.score(X,y)*100,\"%\")"
      ]
    }
  ]
}