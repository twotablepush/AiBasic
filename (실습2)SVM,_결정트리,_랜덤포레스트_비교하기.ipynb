{
  "nbformat": 4,
  "nbformat_minor": 0,
  "metadata": {
    "colab": {
      "provenance": [],
      "authorship_tag": "ABX9TyPHuJtwOP9MkON924lQ9IIU",
      "include_colab_link": true
    },
    "kernelspec": {
      "name": "python3",
      "display_name": "Python 3"
    },
    "language_info": {
      "name": "python"
    }
  },
  "cells": [
    {
      "cell_type": "markdown",
      "metadata": {
        "id": "view-in-github",
        "colab_type": "text"
      },
      "source": [
        "<a href=\"https://colab.research.google.com/github/twotablepush/AiBasic/blob/main/(%EC%8B%A4%EC%8A%B52)SVM%2C_%EA%B2%B0%EC%A0%95%ED%8A%B8%EB%A6%AC%2C_%EB%9E%9C%EB%8D%A4%ED%8F%AC%EB%A0%88%EC%8A%A4%ED%8A%B8_%EB%B9%84%EA%B5%90%ED%95%98%EA%B8%B0.ipynb\" target=\"_parent\"><img src=\"https://colab.research.google.com/assets/colab-badge.svg\" alt=\"Open In Colab\"/></a>"
      ]
    },
    {
      "cell_type": "code",
      "execution_count": null,
      "metadata": {
        "colab": {
          "base_uri": "https://localhost:8080/"
        },
        "id": "BkczhEv4rnK9",
        "outputId": "1730f27a-4d5e-4b78-ef9e-2c96c46aa6c1"
      },
      "outputs": [
        {
          "output_type": "stream",
          "name": "stdout",
          "text": [
            "\n",
            "SVM의 정확률:  [0.975      0.95       0.98328691 0.99164345 0.96100279]\n",
            "정확률(평균)=97.219, 표준편차 =0.015\n",
            "\n",
            "결정트리의 정확률:  [0.76944444 0.71388889 0.7994429  0.82451253 0.79108635]\n",
            "정확률(평균)=77.968, 표준편차 =0.037\n",
            "\n",
            "랜덤포레스트의 정확률:  [0.92222222 0.91111111 0.9637883  0.97493036 0.91922006]\n",
            "정확률(평균)=93.825, 표준편차 =0.026\n",
            "\n",
            "테스트 집합에 대한 정확률=0.986\n"
          ]
        }
      ],
      "source": [
        "from sklearn import datasets\n",
        "from sklearn import svm, tree\n",
        "from sklearn.ensemble import RandomForestClassifier\n",
        "from sklearn.model_selection import cross_val_score, train_test_split\n",
        "import numpy as np\n",
        "\n",
        "digit = datasets.load_digits()\n",
        "\n",
        "# 40%를 테스트 집합으로 함\n",
        "x_train, x_test, y_train, y_test = train_test_split(digit.data, digit.target, train_size=0.6)\n",
        "\n",
        "s = svm.SVC(gamma=0.001)\n",
        "# 2-1. 아래 [코드작성] 부분에 5-겹 교차검증 코드를 작성하시요\n",
        "accuracies = cross_val_score(s, digit.data, digit.target, cv=5)\n",
        "print(\"\\nSVM의 정확률: \", accuracies)\n",
        "print(\"정확률(평균)=%0.3f, 표준편차 =%0.3f\" % (accuracies.mean() * 100, accuracies.std()))\n",
        "\n",
        "t = tree.DecisionTreeClassifier()\n",
        "# 2-2. 아래 [코드작성] 부분에 5-겹 교차검증 코드를 작성하시요\n",
        "accuracies = cross_val_score(t, digit.data, digit.target, cv=5)\n",
        "print(\"\\n결정트리의 정확률: \", accuracies)\n",
        "print(\"정확률(평균)=%0.3f, 표준편차 =%0.3f\" % (accuracies.mean() * 100, accuracies.std()))\n",
        "\n",
        "r = RandomForestClassifier()\n",
        "# 2-3. 아래 [코드작성] 부분에 5-겹 교차검증 코드를 작성하시요\n",
        "accuracies = cross_val_score(r, digit.data, digit.target, cv=5)\n",
        "print(\"\\n랜덤포레스트의 정확률: \", accuracies)\n",
        "print(\"정확률(평균)=%0.3f, 표준편차 =%0.3f\" % (accuracies.mean() * 100, accuracies.std()))\n",
        "\n",
        "# 정확률을 비교한 결과 SVM이 가장 우수하므로 SVM에 대해 테스트 집합의 정확률을 측정함\n",
        "# 60%의 훈련 집합으로 SVM을 학습함\n",
        "s.fit(x_train, y_train)\n",
        "\n",
        "# 40%의 테스트 집합으로 성능 측정\n",
        "print('\\n테스트 집합에 대한 정확률=%0.3f' % s.score(x_test, y_test))"
      ]
    }
  ]
}