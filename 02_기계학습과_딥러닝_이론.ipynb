{
  "nbformat": 4,
  "nbformat_minor": 0,
  "metadata": {
    "colab": {
      "provenance": [],
      "authorship_tag": "ABX9TyMPJN/c/Nw60RSX2zOsfKtC",
      "include_colab_link": true
    },
    "kernelspec": {
      "name": "python3",
      "display_name": "Python 3"
    },
    "language_info": {
      "name": "python"
    }
  },
  "cells": [
    {
      "cell_type": "markdown",
      "metadata": {
        "id": "view-in-github",
        "colab_type": "text"
      },
      "source": [
        "<a href=\"https://colab.research.google.com/github/twotablepush/AiBasic/blob/main/02_%EA%B8%B0%EA%B3%84%ED%95%99%EC%8A%B5%EA%B3%BC_%EB%94%A5%EB%9F%AC%EB%8B%9D_%EC%9D%B4%EB%A1%A0.ipynb\" target=\"_parent\"><img src=\"https://colab.research.google.com/assets/colab-badge.svg\" alt=\"Open In Colab\"/></a>"
      ]
    },
    {
      "cell_type": "markdown",
      "source": [
        "## 사과를 상중하의 세 분류로 분류하는 인공지능 기계의 설계\n",
        "\n",
        "1. 데이터 확보\n",
        " - 상중하 비율이 비슷하게 수천 개의 사과 수집(데이터 편향 data bias을 방지하기 위해 여러 농장에서 수집)\n",
        " - 카메라로 촬영하여 파일에 저장\n",
        "\n",
        "2. 특징 벡터(d.data)와 레이블(d.target)준비\n",
        " - 어떤 특징을 사용할지 ex) 사과의 크기, 색깔, 표면의 균일도는 분별력이 높은 특징\n",
        " - 컴퓨터 비전 기술로 특징을 추출 프로그램 작성. 특징 추출하여 apple.data 파일에 저장\n",
        " - 사과 분류 전문가를 고용하여 레이블링 apple.target 파일에 저장"
      ],
      "metadata": {
        "id": "SzpvKxjFvFM7"
      }
    },
    {
      "cell_type": "code",
      "execution_count": null,
      "metadata": {
        "colab": {
          "base_uri": "https://localhost:8080/"
        },
        "id": "f5TlPvFcvELN",
        "outputId": "f538c787-f1b8-4e9f-a112-bb0cf463fdb0"
      },
      "outputs": [
        {
          "output_type": "stream",
          "name": "stdout",
          "text": [
            "새로운 사과의 예측 등급: 1\n",
            "모델 정확도: 50.0 %\n"
          ]
        }
      ],
      "source": [
        "from sklearn import svm\n",
        "from sklearn.model_selection import train_test_split\n",
        "import numpy as np\n",
        "\n",
        "# 1. 가상 데이터 생성 (사과의 특징: 크기, 색깔, 표면 균일도)\n",
        "# 예시: [크기, 색깔, 표면 균일도]\n",
        "# 크기: 0(작음), 1(중간), 2(큼)\n",
        "# 색깔: 0(녹색), 1(노란색), 2(빨간색)\n",
        "# 표면 균일도: 0(매우 불균일), 1(중간), 2(균일)\n",
        "\n",
        "apple_data = np.array([\n",
        "    [0, 0, 0],  # 작은 녹색, 매우 불균일 (하)\n",
        "    [2, 2, 2],  # 큰 빨간색, 매우 균일 (상)\n",
        "    [1, 1, 1],  # 중간 크기, 노란색, 중간 균일 (중)\n",
        "    [2, 1, 1],  # 큰 노란색, 중간 균일 (상)\n",
        "    [0, 1, 0],  # 작은 노란색, 매우 불균일 (하)\n",
        "    [1, 2, 2],  # 중간 크기, 빨간색, 매우 균일 (상)\n",
        "    [1, 0, 1],  # 중간 크기, 녹색, 중간 균일 (중)\n",
        "    [0, 2, 0]   # 작은 빨간색, 매우 불균일 (하)\n",
        "])\n",
        "\n",
        "# 레이블: 0(하), 1(중), 2(상)\n",
        "apple_target = np.array([0, 2, 1, 2, 0, 2, 1, 0])\n",
        "\n",
        "# 2. 데이터셋을 훈련 집합과 테스트 집합으로 나누기\n",
        "X_train, X_test, y_train, y_test = train_test_split(apple_data, apple_target, test_size=0.2, random_state=42)\n",
        "\n",
        "# 3. SVM 모델 생성 및 훈련\n",
        "s = svm.SVC(gamma=0.1, C=10)\n",
        "s.fit(X_train, y_train)\n",
        "\n",
        "# 4. 새로운 사과의 특징 벡터 예측 (예: 중간 크기, 빨간색, 중간 균일)\n",
        "new_apple = [[1, 2, 1]]  # 예시 사과 데이터\n",
        "prediction = s.predict(new_apple)\n",
        "\n",
        "print(\"새로운 사과의 예측 등급:\", prediction[0])  # 0(하), 1(중), 2(상)\n",
        "\n",
        "# 5. 모델 정확도 확인\n",
        "accuracy = s.score(X_test, y_test)\n",
        "print(\"모델 정확도:\", accuracy * 100, \"%\")\n"
      ]
    },
    {
      "cell_type": "markdown",
      "source": [
        "## 규칙기반 vs 고전적 기계 학습 vs 딥러닝\n",
        "\n",
        "규칙 기반 방법\n",
        "- 분류하는 규칙을 사람이 구현 ex) \"꽃잎의 길이가 a 보다 크고, 꽃잎의 너비가 b보다 작으면 Setosa\"라는 규칙에서 a와 b를 사람이 결정해줌\n",
        "- 큰 데이터셋에서는 불가능하고, 데이터가 바뀌면 처음부터 새로 작업해야 하는 비효율성\n",
        "\n",
        "기계 학습 방법 = 'd'라는 특징 벡터 추출\n",
        "- 특징 벡터를 추출하고 레이블을 붙이는 과정은 규칙 기반과 동일(수작업 특성)\n",
        "- 규칙 만드는 일은 기계학습 모델을 이용하여 자동으로 수행\n",
        "\n",
        "딥러닝 방법\n",
        "- 레이블을 붙이는 과정은 기계 학습과 동일\n",
        "- 특징 벡터를 학습이 자동으로 알아냄. 특징 학습(feature learning) 또는 표현 학습(representation learning)을 한다고 함.\n",
        "- 장점\n",
        " - 특징 추출과 분류를 동시에 최적화하므로 뛰어난 성능 보장 ex) 음성인식기, 영상인식기, 언어번역\n",
        " - 인공지능 제품 제작이 빠름"
      ],
      "metadata": {
        "id": "9Oybh88Uxb6L"
      }
    }
  ]
}