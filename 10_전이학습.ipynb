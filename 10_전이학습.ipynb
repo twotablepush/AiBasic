{
  "nbformat": 4,
  "nbformat_minor": 0,
  "metadata": {
    "colab": {
      "provenance": [],
      "authorship_tag": "ABX9TyNMsM3ok6poSjXWa1l8yks8",
      "include_colab_link": true
    },
    "kernelspec": {
      "name": "python3",
      "display_name": "Python 3"
    },
    "language_info": {
      "name": "python"
    }
  },
  "cells": [
    {
      "cell_type": "markdown",
      "metadata": {
        "id": "view-in-github",
        "colab_type": "text"
      },
      "source": [
        "<a href=\"https://colab.research.google.com/github/twotablepush/AiBasic/blob/main/10_%EC%A0%84%EC%9D%B4%ED%95%99%EC%8A%B5.ipynb\" target=\"_parent\"><img src=\"https://colab.research.google.com/assets/colab-badge.svg\" alt=\"Open In Colab\"/></a>"
      ]
    },
    {
      "cell_type": "markdown",
      "source": [
        "*이탤릭체 텍스트*## 전이 학습의 원리\n",
        "- 인간의 전이 학습\n",
        " - C언어에 능숙한 학생은 파이썬도 금방 배움\n",
        " - 채소를 잘 가꾸는 사람은 꽃도 잘 가꿈 <- 겉모습은 달라도 원천적인 개념과 사용법을 공유하기 때문\n",
        "- 딥러닝도 같은 원리가 적용됨\n",
        " - 자연 영상으로 학습한 신경망을 새나 개의 종을 분류하거나 자율주행에서 차선과 보행자 인식에 사용됨\n",
        "\n",
        "## 전이 학습\n",
        "- 어떤 도메인의 데이터로 학습한 모델을 다른 도메인의 데이터를 인식하는데 활용하여 성능을 향상을 꾀하는 기법\n",
        "- 데이터가 부조하여 스크래치 학습으로 높은 성능을 달성하기 어려운 상황에 주로 사용\n",
        "\n",
        "## 많이 쓰는 예비 학습 모델\n",
        "- VGG : 3*3의 작은 마스크 사용(층을 깊게 만든다.)\n",
        "- Inception(GoogLeNet) : 네트워크 속의 네트워크(MIN) 구현 (층을 깊게 만든다.)\n",
        "- ResNet : 잔류 학습 (이름 뒤에 붙은 숫자가 층의 깊를 의미한다.)"
      ],
      "metadata": {
        "id": "peR1_-D2jX1v"
      }
    }
  ]
}