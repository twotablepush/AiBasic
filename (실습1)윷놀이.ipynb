{
  "nbformat": 4,
  "nbformat_minor": 0,
  "metadata": {
    "colab": {
      "provenance": [],
      "authorship_tag": "ABX9TyMy1dyeJgb3x2vSYhAXt22r",
      "include_colab_link": true
    },
    "kernelspec": {
      "name": "python3",
      "display_name": "Python 3"
    },
    "language_info": {
      "name": "python"
    }
  },
  "cells": [
    {
      "cell_type": "markdown",
      "metadata": {
        "id": "view-in-github",
        "colab_type": "text"
      },
      "source": [
        "<a href=\"https://colab.research.google.com/github/twotablepush/AiBasic/blob/main/(%EC%8B%A4%EC%8A%B51)%EC%9C%B7%EB%86%80%EC%9D%B4.ipynb\" target=\"_parent\"><img src=\"https://colab.research.google.com/assets/colab-badge.svg\" alt=\"Open In Colab\"/></a>"
      ]
    },
    {
      "cell_type": "code",
      "execution_count": null,
      "metadata": {
        "colab": {
          "base_uri": "https://localhost:8080/"
        },
        "id": "z5jm-Wi03V61",
        "outputId": "40260b1a-2b8f-4e34-a930-fbc1380b175b"
      },
      "outputs": [
        {
          "output_type": "stream",
          "name": "stdout",
          "text": [
            "xxoo\n",
            "개\n"
          ]
        }
      ],
      "source": [
        "import random # random 모듈을 import하여 랜덤한 값을 생성할 수 있게 한다.\n",
        "yut = ['xxxx', 'xxxo', 'xxox', 'xxoo', 'xoxx', 'xoxo', 'xooo', 'oxxx', 'oxxo', 'oxox', 'oxoo', 'ooxx', 'ooxo', 'ooox', 'oooo']\n",
        "# 윷놀이의 가능한 경우의 수를 리스트 yut에 저장한다.\n",
        "throw = random.choice(yut)  # yut 리스트에서 랜덤으로 하나의 요소를 선택하여 변수 throw에 저장한다.\n",
        "print(throw)  # 변수 throw를 출력한다.\n",
        "n = throw.count('o')  # 'o'의 갯수를 변수 n에 저장한다.\n",
        "if n == 4:    # 만약 'o'가 4개라면\n",
        "  print(\"모\") # \"모\"를 출력한다.\n",
        "elif n == 3:  # 만약 'o'가 3개라면\n",
        "  print(\"도\") # \"도\"를 출력한다.\n",
        "elif n == 2:  # 만약 'o'가 2개라면\n",
        "  print(\"개\") # \"개\"를 출력한다.\n",
        "elif n == 1:  # 만약 'o'가 1개라면\n",
        "  print(\"걸\") # \"걸\"을 출력한다.\n",
        "elif n == 0:  # 만약 'o'가 하나도 없다면\n",
        "  print(\"윷\") # \"윷\"을 출력한다."
      ]
    }
  ]
}