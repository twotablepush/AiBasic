{
  "nbformat": 4,
  "nbformat_minor": 0,
  "metadata": {
    "colab": {
      "provenance": [],
      "authorship_tag": "ABX9TyMk1ywfarS27jeEF8ND0oNS",
      "include_colab_link": true
    },
    "kernelspec": {
      "name": "python3",
      "display_name": "Python 3"
    },
    "language_info": {
      "name": "python"
    }
  },
  "cells": [
    {
      "cell_type": "markdown",
      "metadata": {
        "id": "view-in-github",
        "colab_type": "text"
      },
      "source": [
        "<a href=\"https://colab.research.google.com/github/twotablepush/AiBasic/blob/main/05_%EC%84%B1%EB%8A%A5%EC%B8%A1%EC%A0%95.ipynb\" target=\"_parent\"><img src=\"https://colab.research.google.com/assets/colab-badge.svg\" alt=\"Open In Colab\"/></a>"
      ]
    },
    {
      "cell_type": "markdown",
      "source": [
        "## 혼동 행렬 confusion matrix\n",
        "\n",
        "부류 별로 옳은 분류와 틀린 분류의 개수를 기록한 행렬\n",
        "- nij는 모델이 i라고 예측했는데 실제 부류는 j인 샘플의 개수 행 : 예측한 부류, 열 : 참값\n",
        "- 이진 분류에서 긍정과 부정\n",
        " - 검출하고자 하는 것이 긍정(환자가 긍정이고 정상인이 부정, 불량품이 긍정이고 정상이 부정)\n",
        "- 참 긍정(TP), 거짓 부정(FN), 거짓 긍정(FP), 참 부정(TN)의 네 경우\n",
        "\n",
        "널리 쓰이는 성능 측정 기준\n",
        "- 정확률\n",
        "- 특이도와 민감도 (의료에서 주로 사용)\n",
        "- 정밀도와 재현률 (정보검색에서 주로 사용)\n",
        "\n",
        "주어진 데이터를 적절한 비율로 훈련, 검증, 테스트 집합으로 나누어 씀\n",
        "- 모델 선택 포함 : 훈련/검증/테스트 집합으로 나눔\n",
        "- 모델 선택 제외 : 훈련/테스트 집합으로 나눔\n"
      ],
      "metadata": {
        "id": "2eNX1why8d5W"
      }
    },
    {
      "cell_type": "code",
      "source": [
        "# 필기 숫자 인식 - 훈련 집합으로 학습하고 테슨트 집합으로 성능 측정\n",
        "\n",
        "from sklearn import datasets\n",
        "from sklearn import svm\n",
        "from sklearn.model_selection import train_test_split\n",
        "import numpy as np\n",
        "\n",
        "# 데이터셋을 읽고 훈련 집랍과 테스트 집합으로 분할\n",
        "digit = datasets.load_digits()\n",
        "x_train, x_test, y_train, y_test = train_test_split(digit.data, digit.target, train_size = 0.6)\n",
        "\n",
        "# svm의 분류 모델 SCV를 학습\n",
        "s = svm.SVC(gamma = 0.001)\n",
        "s.fit(x_train, y_train)\n",
        "\n",
        "res = s.predict(x_test)\n",
        "\n",
        "# 혼돈 행렬 구함\n",
        "conf = np.zeros((10, 10))\n",
        "for i in range(len(res)):\n",
        "  conf[res[i]][y_test[i]] += 1\n",
        "print(conf)\n",
        "\n",
        "# 정확률 측정하고 출력\n",
        "no_correct = 0\n",
        "for i in range(10):\n",
        "  no_correct += conf[i][i]\n",
        "accuracy = no_correct/len(res)\n",
        "print(\"테스트 집합에 대한 정확률은 \", accuracy*100, \"%입니다.\")"
      ],
      "metadata": {
        "colab": {
          "base_uri": "https://localhost:8080/"
        },
        "id": "5FEbWdkj-2-a",
        "outputId": "4286af9d-8423-48dc-d1fb-31c27509eb77"
      },
      "execution_count": null,
      "outputs": [
        {
          "output_type": "stream",
          "name": "stdout",
          "text": [
            "[[61.  0.  0.  0.  0.  0.  0.  0.  0.  0.]\n",
            " [ 0. 71.  0.  0.  0.  0.  0.  0.  2.  0.]\n",
            " [ 0.  0. 73.  0.  0.  0.  0.  0.  0.  0.]\n",
            " [ 0.  0.  0. 75.  0.  0.  0.  0.  0.  1.]\n",
            " [ 0.  0.  0.  0. 73.  0.  0.  0.  0.  0.]\n",
            " [ 0.  0.  0.  0.  0. 73.  0.  0.  0.  1.]\n",
            " [ 0.  0.  0.  0.  0.  0. 81.  0.  0.  0.]\n",
            " [ 0.  0.  0.  1.  0.  0.  0. 65.  0.  0.]\n",
            " [ 0.  0.  0.  0.  0.  0.  0.  0. 74.  0.]\n",
            " [ 0.  0.  0.  0.  0.  1.  0.  1.  0. 66.]]\n",
            "테스트 집합에 대한 정확률은  99.02642559109874 %입니다.\n"
          ]
        }
      ]
    },
    {
      "cell_type": "markdown",
      "source": [
        "## 교차 검증\n",
        "\n",
        "훈련/테스트 집합 나누기의 한계\n",
        "- 우연히 높은 정확률 도는 우연히 낮은 정확률 발생 가능성\n",
        "\n",
        "k-겹 교차 검증\n",
        "- 훈련 집합을 K개 부분집합으로 나누어 사용 한 개를 남겨두고 k-1개로 학습한 다음 남겨둔 것으로 성능 측정 k개의 성능을 평균하여 신뢰도 높임\n",
        "\n",
        "digit 데이터에 교차 검증 적용(모델 선택 제외)\n",
        "\n"
      ],
      "metadata": {
        "id": "BWuGS6W3_MBu"
      }
    },
    {
      "cell_type": "code",
      "source": [
        "# 필기 숫자 인식 - 교차 검증으로 성능 측정\n",
        "\n",
        "from sklearn import datasets\n",
        "from sklearn import svm\n",
        "from sklearn.model_selection import cross_val_score\n",
        "import numpy as np\n",
        "\n",
        "digit = datasets.load_digits()\n",
        "s = svm.SVC(gamma = 0.001)\n",
        "accuracies = cross_val_score(s, digit.data, digit.target, cv = 5) # 5-겹 교차 검증\n",
        "\n",
        "print(accuracies)\n",
        "print(\"정확률(평균) = %0.3f, 표준편차 = %0.3f\" %(accuracies.mean()*100, accuracies.std()))"
      ],
      "metadata": {
        "colab": {
          "base_uri": "https://localhost:8080/"
        },
        "id": "sEyOOwjK_xge",
        "outputId": "d438d039-c369-4645-adcb-f8651da8f4df"
      },
      "execution_count": null,
      "outputs": [
        {
          "output_type": "stream",
          "name": "stdout",
          "text": [
            "[0.975      0.95       0.98328691 0.99164345 0.96100279]\n",
            "정확률(평균) = 97.219, 표준편차 = 0.015\n"
          ]
        }
      ]
    }
  ]
}