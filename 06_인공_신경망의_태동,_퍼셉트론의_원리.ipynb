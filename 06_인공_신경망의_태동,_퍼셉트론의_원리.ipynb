{
  "nbformat": 4,
  "nbformat_minor": 0,
  "metadata": {
    "colab": {
      "provenance": [],
      "authorship_tag": "ABX9TyPYecIocTBhtzOtlR1YE6fR",
      "include_colab_link": true
    },
    "kernelspec": {
      "name": "python3",
      "display_name": "Python 3"
    },
    "language_info": {
      "name": "python"
    }
  },
  "cells": [
    {
      "cell_type": "markdown",
      "metadata": {
        "id": "view-in-github",
        "colab_type": "text"
      },
      "source": [
        "<a href=\"https://colab.research.google.com/github/twotablepush/AiBasic/blob/main/06_%EC%9D%B8%EA%B3%B5_%EC%8B%A0%EA%B2%BD%EB%A7%9D%EC%9D%98_%ED%83%9C%EB%8F%99%2C_%ED%8D%BC%EC%85%89%ED%8A%B8%EB%A1%A0%EC%9D%98_%EC%9B%90%EB%A6%AC.ipynb\" target=\"_parent\"><img src=\"https://colab.research.google.com/assets/colab-badge.svg\" alt=\"Open In Colab\"/></a>"
      ]
    },
    {
      "cell_type": "markdown",
      "source": [
        "## 생물 신경망\n",
        "\n",
        "사람 뇌와 컴퓨터\n",
        "- 뉴런은 뇌의 정보처리 단위로서 연산을 수행하는 세포체 또는 처리한 정보를 다른 뉴런에 전달하는 축삭, 다른 뉴런으로 정보를 받는 수상돌기로 구성\n",
        "- 사람 뇌는 10의 11승개 가량 뉴런, 뉴런마다 1000개의 가량의 연결 -> 고도의 병렬 처리기\n",
        "- 반면에 폰 노이만 컴퓨터는 아주 빠른 순차 명령어 처리기\n",
        "\n",
        "## 퍼셉트론의 원리\n",
        "\n",
        "페섭트론\n",
        "- 현재 기준으로 매우 낡은 기술이지만 신경망 공부에서 중요\n",
        " - 퍼셉트론은 다층 퍼셉트론과 딥러닝의 핵심 구성 요소이기 때문\n",
        "- 퍼셉트론은 단순한 모델이기 때문에 기계 학습의 용어와 원리를 설명하는데 적합\n",
        "\n",
        "퍼셉트론의 구조\n",
        "- 입력층과 출력층으로 구성(츨력층은 한 개의 노드)('외부'로부터 입력을 받는 입력층)\n",
        "- 입력측은 d+1개의 노드(d는 특징 벡터의 차원). ex) iris는 d = 4, digit는 d = 64\n",
        "- i번째 입력 노드와 출력 노드는 가중치 wi를 가진 에지로 연결\n",
        "\n",
        "퍼셉트론의 연산\n",
        "- i번째 에지는 xi와 wi를 곱해 출력 노드로 전달\n",
        "- 0번째 입력 노드 x0은 1인 바이어스 노드\n",
        "- 출력 노드는 d+1개의 곱셈 결과를 모두 더한 s를 계산하고 활성 함수 적용\n",
        "\n",
        "활성 함수\n",
        "- 뉴런을 활성화하는 과정을 모방\n",
        "- 퍼셉트론은 활성 함수로 계단 함수 사용(s가 0보다 크면1, 그렇지 않으면 -1 출력)\n",
        "- 따라서 퍼셉트론은 특징 벡터를 1 또는 -1 로 변환하는 장치, 즉 이진 분류기\n"
      ],
      "metadata": {
        "id": "T66e5q0DGdFh"
      }
    }
  ]
}