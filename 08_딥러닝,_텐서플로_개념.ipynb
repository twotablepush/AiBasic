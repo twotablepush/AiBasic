{
  "nbformat": 4,
  "nbformat_minor": 0,
  "metadata": {
    "colab": {
      "provenance": [],
      "authorship_tag": "ABX9TyOPK6jOFEg+0eGijEomxGsc",
      "include_colab_link": true
    },
    "kernelspec": {
      "name": "python3",
      "display_name": "Python 3"
    },
    "language_info": {
      "name": "python"
    }
  },
  "cells": [
    {
      "cell_type": "markdown",
      "metadata": {
        "id": "view-in-github",
        "colab_type": "text"
      },
      "source": [
        "<a href=\"https://colab.research.google.com/github/twotablepush/AiBasic/blob/main/08_%EB%94%A5%EB%9F%AC%EB%8B%9D%2C_%ED%85%90%EC%84%9C%ED%94%8C%EB%A1%9C_%EA%B0%9C%EB%85%90.ipynb\" target=\"_parent\"><img src=\"https://colab.research.google.com/assets/colab-badge.svg\" alt=\"Open In Colab\"/></a>"
      ]
    },
    {
      "cell_type": "markdown",
      "source": [
        "## 딥러닝의 기술 혁신 요인\n",
        "\n",
        "- 값싼 GPU 등장\n",
        " - 10 ~ 100배의 속도 향상으로 학습 시간 단축\n",
        "\n",
        "- 데이터셋 커짐\n",
        " - 인터넷을 통한 데이터 수집과 레이블링 ex) 1,400만장을 담은 ImageNet\n",
        "\n",
        "- 학습 알고리즘의 발전\n",
        " - ReLU 활성 함수\n",
        " - 규제 기법(가중치 감쇠, 드롭아웃, 조기 멈춤, 데이터 증대, 앙상블 등)\n",
        " - 다양한 손실 함수와 옵티마이저 개발\n",
        "\n",
        " ## 딥러닝으로 인한 인공지능의 획기적 발전\n",
        "\n",
        " - 2010년대에 딥러닝의 성공 사례 발표 ex) Alexnet\n",
        " - 고전적인 기계학습을 사용하던 연구 그룹이 딥러닝으로 전환\n",
        " - 낮은 성능 때문에 대학 실험실에 머물던 프로토타입 시스템에 획기적인 성능 향상\n",
        " - 뛰어난 인공지능 제품이 시장에 속속 등장하여 '인공지능 붐' 조성\n",
        " - 딥러닝은 인공지능을 구현하는 핵심 기술로 자리잡음\n",
        "\n",
        "## 대표적인 딥러닝 소프트웨어\n",
        "\n",
        "- 텐서플로와 파이토치가 대세\n",
        "- 대략 텐서플로는 기업, 파이토치는 대학 연구자들이 많이 사용\n",
        "\n"
      ],
      "metadata": {
        "id": "_tKtKifOsZ2R"
      }
    },
    {
      "cell_type": "code",
      "source": [
        "# 텐서플로 버전과 동작확인\n",
        "import tensorflow as tf\n",
        "\n",
        "print(tf.__version__)\n",
        "a = tf.random.uniform([2, 3], 0, 1)\n",
        "print(a)\n",
        "print(type(a))"
      ],
      "metadata": {
        "colab": {
          "base_uri": "https://localhost:8080/"
        },
        "id": "YdYhujGACDN9",
        "outputId": "6f82a6f7-6098-4a1b-a6a4-9019db4a5a58"
      },
      "execution_count": null,
      "outputs": [
        {
          "output_type": "stream",
          "name": "stdout",
          "text": [
            "2.17.0\n",
            "tf.Tensor(\n",
            "[[0.5081594  0.11198938 0.91657686]\n",
            " [0.31414497 0.50818694 0.40287566]], shape=(2, 3), dtype=float32)\n",
            "<class 'tensorflow.python.framework.ops.EagerTensor'>\n"
          ]
        }
      ]
    },
    {
      "cell_type": "code",
      "source": [
        "# 텐서플로와 넘파이의 호환\n",
        "import tensorflow as tf\n",
        "import numpy as np\n",
        "\n",
        "t = tf.random.uniform([2, 3], 0, 1)\n",
        "n = np.random.uniform(0, 1, [2, 3])\n",
        "print(\"tensorflow로 생성한 텐서:\\n\", t, \"\\n\")\n",
        "print(\"numpy로 생성한 ndarray:\\n\", n, \"\\n\")\n",
        "\n",
        "res = t + n   # 텐서 t와 ndarray n의 덧셈\n",
        "print(\"덧셈 결과:\\n\", res)"
      ],
      "metadata": {
        "colab": {
          "base_uri": "https://localhost:8080/"
        },
        "id": "k6i-gRbFC-Sb",
        "outputId": "ddac609d-c587-4d6f-a1f7-227511237a01"
      },
      "execution_count": null,
      "outputs": [
        {
          "output_type": "stream",
          "name": "stdout",
          "text": [
            "tensorflow로 생성한 텐서:\n",
            " tf.Tensor(\n",
            "[[0.7976972  0.49836588 0.20671594]\n",
            " [0.85579944 0.12357414 0.17119074]], shape=(2, 3), dtype=float32) \n",
            "\n",
            "numpy로 생성한 ndarray:\n",
            " [[0.56613029 0.29646942 0.25343931]\n",
            " [0.63905208 0.35739052 0.2585393 ]] \n",
            "\n",
            "덧셈 결과:\n",
            " tf.Tensor(\n",
            "[[1.3638275  0.7948353  0.46015525]\n",
            " [1.4948516  0.48096466 0.42973003]], shape=(2, 3), dtype=float32)\n"
          ]
        }
      ]
    },
    {
      "cell_type": "markdown",
      "source": [
        "## 딥러닝에서 텐서\n",
        "\n",
        "- 다차원 배열을 텐서라 부름\n",
        " - 데이터를 텐서로 표현\n",
        " - 신경망의 가중치(매개변수)를 텐서로 표현\n",
        "- 넘파이는 ndarry 클래스, 텐서플로는 Tensor 클래스로 표현. 둘은 호환됨\n",
        "\n",
        "## 0~4차원 구조의 텐서의 예\n",
        "- 1차원 : iris 샘플 하나\n",
        "- 2차원 : iris 샘플 여러개, 명암 영상 한 장\n",
        "- 3차원 : 명암 영상 여러 장, 컬러 영상 한 장\n",
        "- 4차원 : 컬러 영상 여러 장, 컬러 동영상 하나\n",
        "- 5차원 : 컬러 동영상 여러"
      ],
      "metadata": {
        "id": "jjTM3haXENsB"
      }
    },
    {
      "cell_type": "code",
      "source": [
        "import tensorflow as tf\n",
        "import tensorflow.keras.datasets as ds\n",
        "\n",
        "# MNIST 읽고 텐서 모양 출력\n",
        "(x_train, y_train), (x_test, y_test) = ds.mnist.load_data()\n",
        "yy_train = tf.one_hot(y_train, 10, dtype = tf.int8) # 원핫 코드로 변환\n",
        "print(\"MNIST: \", x_train.shape, y_train.shape, yy_train.shape)\n",
        "\n",
        "# CIFAR-10 읽고 텐서 모양 출력\n",
        "(x_train, y_train), (x_test, y_test) = ds.cifar10.load_data()\n",
        "yy_train = tf.one_hot(y_train, 10, dtype = tf.int8)\n",
        "print(\"CIFAR-10: \", x_train.shape, y_train.shape, yy_train.shape)\n",
        "\n",
        "# Boston Housing 읽고 텐서 모양 출력\n",
        "(x_train, y_train), (x_test, y_test) = ds.boston_housing.load_data()\n",
        "print(\"Boston Housing: \", x_train.shape, y_train.shape)\n",
        "\n",
        "# Reuters 읽고 텐서 모양 출력\n",
        "(x_train, y_train), (x_test, y_test) = ds.reuters.load_data()\n",
        "print(\"Reuters: \", x_train.shape, y_train.shape)"
      ],
      "metadata": {
        "colab": {
          "base_uri": "https://localhost:8080/"
        },
        "id": "cVYkwuT8HR6d",
        "outputId": "0a8070a9-a374-4ad5-bf6a-a6fb0d8abcb5"
      },
      "execution_count": null,
      "outputs": [
        {
          "output_type": "stream",
          "name": "stdout",
          "text": [
            "Downloading data from https://storage.googleapis.com/tensorflow/tf-keras-datasets/mnist.npz\n",
            "\u001b[1m11490434/11490434\u001b[0m \u001b[32m━━━━━━━━━━━━━━━━━━━━\u001b[0m\u001b[37m\u001b[0m \u001b[1m0s\u001b[0m 0us/step\n",
            "MNIST:  (60000, 28, 28) (60000,) (60000, 10)\n",
            "Downloading data from https://www.cs.toronto.edu/~kriz/cifar-10-python.tar.gz\n",
            "\u001b[1m170498071/170498071\u001b[0m \u001b[32m━━━━━━━━━━━━━━━━━━━━\u001b[0m\u001b[37m\u001b[0m \u001b[1m2s\u001b[0m 0us/step\n",
            "CIFAR-10:  (50000, 32, 32, 3) (50000, 1) (50000, 1, 10)\n",
            "Downloading data from https://storage.googleapis.com/tensorflow/tf-keras-datasets/boston_housing.npz\n",
            "\u001b[1m57026/57026\u001b[0m \u001b[32m━━━━━━━━━━━━━━━━━━━━\u001b[0m\u001b[37m\u001b[0m \u001b[1m0s\u001b[0m 0us/step\n",
            "Boston Housing:  (404, 13) (404,)\n",
            "Downloading data from https://storage.googleapis.com/tensorflow/tf-keras-datasets/reuters.npz\n",
            "\u001b[1m2110848/2110848\u001b[0m \u001b[32m━━━━━━━━━━━━━━━━━━━━\u001b[0m\u001b[37m\u001b[0m \u001b[1m0s\u001b[0m 0us/step\n",
            "Reuters:  (8982,) (8982,)\n"
          ]
        }
      ]
    }
  ]
}